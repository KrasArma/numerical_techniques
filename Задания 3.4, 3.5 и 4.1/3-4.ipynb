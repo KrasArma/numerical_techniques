{
 "cells": [
  {
   "cell_type": "markdown",
   "metadata": {},
   "source": [
    "#### Задание 3.4\n",
    "###### Вычислить первую и вторую производную от таблично заданной функции yi=f(xi), i=0,1,2,3,4, в точке x=X*\n",
    "###### *По списку мой вариант - 34, но в задачнике всего 30 вариантов. Взяла вариант №4."
   ]
  },
  {
   "cell_type": "markdown",
   "metadata": {},
   "source": [
    "##### Опредеделим вводные и индекс точки X*"
   ]
  },
  {
   "cell_type": "code",
   "execution_count": 2,
   "metadata": {},
   "outputs": [
    {
     "data": {
      "text/plain": [
       "np.int64(2)"
      ]
     },
     "execution_count": 2,
     "metadata": {},
     "output_type": "execute_result"
    }
   ],
   "source": [
    "import numpy as np\n",
    "\n",
    "X_star = 0.2\n",
    "xi = np.array([0.0, 0.1, 0.2, 0.3, 0.4])\n",
    "yi = np.array([1.0, 1.1052, 1.2214, 1.3499, 1.4918])\n",
    "\n",
    "index = np.where(xi == X_star)[0][0]\n",
    "index"
   ]
  },
  {
   "cell_type": "markdown",
   "metadata": {},
   "source": [
    "##### Вычисление первой производной методом конечных разностей"
   ]
  },
  {
   "cell_type": "code",
   "execution_count": 3,
   "metadata": {},
   "outputs": [
    {
     "data": {
      "text/plain": [
       "np.float64(1.2235000000000007)"
      ]
     },
     "execution_count": 3,
     "metadata": {},
     "output_type": "execute_result"
    }
   ],
   "source": [
    "if index == 0:\n",
    "    first_derivative = (yi[index + 1] - yi[index]) / (xi[index + 1] - xi[index])\n",
    "elif index == len(xi) - 1:\n",
    "    first_derivative = (yi[index] - yi[index - 1]) / (xi[index] - xi[index - 1])\n",
    "else:\n",
    "    first_derivative = (yi[index + 1] - yi[index - 1]) / (xi[index + 1] - xi[index - 1])\n",
    "    \n",
    "first_derivative"
   ]
  },
  {
   "cell_type": "markdown",
   "metadata": {},
   "source": [
    "##### Вычисление второй производной методом конечных разностей"
   ]
  },
  {
   "cell_type": "code",
   "execution_count": 4,
   "metadata": {},
   "outputs": [
    {
     "data": {
      "text/plain": [
       "np.float64(1.2299999999999984)"
      ]
     },
     "execution_count": 4,
     "metadata": {},
     "output_type": "execute_result"
    }
   ],
   "source": [
    "if index == 0:\n",
    "    second_derivative = (yi[index + 2] - 2 * yi[index + 1] + yi[index]) / ((xi[index + 1] - xi[index]) ** 2)\n",
    "elif index == len(xi) - 1:\n",
    "    second_derivative = (yi[index] - 2 * yi[index - 1] + yi[index - 2]) / ((xi[index] - xi[index - 1]) ** 2)\n",
    "else:\n",
    "    second_derivative = (yi[index + 1] - 2 * yi[index] + yi[index - 1]) / ((xi[index + 1] - xi[index]) ** 2)\n",
    "\n",
    "second_derivative"
   ]
  }
 ],
 "metadata": {
  "kernelspec": {
   "display_name": "venv",
   "language": "python",
   "name": "python3"
  },
  "language_info": {
   "codemirror_mode": {
    "name": "ipython",
    "version": 3
   },
   "file_extension": ".py",
   "mimetype": "text/x-python",
   "name": "python",
   "nbconvert_exporter": "python",
   "pygments_lexer": "ipython3",
   "version": "3.12.4"
  }
 },
 "nbformat": 4,
 "nbformat_minor": 2
}
