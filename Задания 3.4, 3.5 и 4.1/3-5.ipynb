{
 "cells": [
  {
   "cell_type": "markdown",
   "metadata": {},
   "source": [
    "#### Задача 3.5\n",
    "###### Вычислить определенный интеграл F = ∫ y dх (X1-X0) методами прямоугольников, трапеций, Симпсона с шагами һ₁, һ₂. Уточнить полученные значения, используя метод Рунге - Ромберга. Оценить погрешность методов интегрирования, используя формулы:\n",
    "###### 1. Оценка остаточного метода прямоугольников:\n",
    "###### R <= 1/24 h^2M2(b-a), где M2 = max|f''(x)|, x пренадлежит [a, b]\n",
    "###### 2. В случае постоянного шага интегрирования величина остаточнрого члена оценивается так:\n",
    "###### R <=  ((b-a)/12)h^2M2, где  M2 = max|f''(x)|, x пренадлежит [a, b]\n",
    "###### 3. Мажорная оценка (В случае, если существует f''''(x), x пренадлежит [a, b]) :\n",
    "###### R <=  ((b-a)/180)h^4M4, где  M4 = max|f''''(x)|, x пренадлежит [a, b]\n",
    "\n",
    "###### *По списку мой вариант - 34, но в задачнике всего 30 вариантов. Взяла вариант №4."
   ]
  },
  {
   "cell_type": "markdown",
   "metadata": {},
   "source": [
    "##### Определим функцию, производные, параметры"
   ]
  },
  {
   "cell_type": "code",
   "execution_count": 3,
   "metadata": {},
   "outputs": [],
   "source": [
    "import numpy as np\n",
    "\n",
    "\n",
    "def f(x):\n",
    "    return x**2\n",
    "\n",
    "def f_prime(x):\n",
    "    return 2*x\n",
    "\n",
    "def f_double_prime(x):\n",
    "    return 2\n",
    "\n",
    "def f_fourth_prime(x):\n",
    "    return 0\n",
    "\n",
    "X0 = 0.0\n",
    "X1 = 1.0\n",
    "h1 = 0.1\n",
    "h2 = 0.05"
   ]
  },
  {
   "cell_type": "markdown",
   "metadata": {},
   "source": [
    "##### Определим методы: прямоугольников, трапеций, Симпсона, Рунге-Ромберга"
   ]
  },
  {
   "cell_type": "code",
   "execution_count": 10,
   "metadata": {},
   "outputs": [],
   "source": [
    "def rectangle_method(f, a, b, h):\n",
    "    n = int((b - a) / h)\n",
    "    integral = sum(f(a + i * h) for i in range(n)) * h\n",
    "    return integral\n",
    "\n",
    "def trapezoidal_method(f, a, b, h):\n",
    "    n = int((b - a) / h)\n",
    "    integral = (f(a) + f(b)) / 2 + sum(f(a + i * h) for i in range(1, n))\n",
    "    integral *= h\n",
    "    return integral\n",
    "\n",
    "def simpson_method(f, a, b, h):\n",
    "    n = int((b - a) / h)\n",
    "    if n % 2 == 1:\n",
    "        n += 1\n",
    "    h = (b - a) / n\n",
    "    integral = f(a) + f(b)\n",
    "    integral += 4 * sum(f(a + (i * h)) for i in range(1, n, 2))\n",
    "    integral += 2 * sum(f(a + (i * h)) for i in range(2, n-1, 2))\n",
    "    integral *= h / 3\n",
    "    return integral\n",
    "\n",
    "def runge_romberg(I1, I2, p):\n",
    "    if p == 1:\n",
    "        raise ValueError(\"p > 1 для метода Рунге-Ромберга\")\n",
    "    return I2 + (I2 - I1) / (p**2 - 1)"
   ]
  },
  {
   "cell_type": "markdown",
   "metadata": {},
   "source": [
    "##### Формулы оценки погрешности"
   ]
  },
  {
   "cell_type": "code",
   "execution_count": 5,
   "metadata": {},
   "outputs": [],
   "source": [
    "\n",
    "def error_estimate_rectangles(h, M2, a, b):\n",
    "    return (1/24) * h**2 * M2 * (b - a)\n",
    "\n",
    "def error_estimate_trapezoidal(h, M2, a, b):\n",
    "    return ((b - a) / 12) * h**2 * M2\n",
    "\n",
    "def error_estimate_simpson(h, M4, a, b):\n",
    "    return ((b - a) / 180) * h**4 * M4\n"
   ]
  },
  {
   "cell_type": "markdown",
   "metadata": {},
   "source": [
    "##### Применение"
   ]
  },
  {
   "cell_type": "code",
   "execution_count": 11,
   "metadata": {},
   "outputs": [],
   "source": [
    "\n",
    "M2 = f_double_prime(X0)\n",
    "M4 = f_fourth_prime(X0) \n",
    "\n",
    "I_rect_h1 = rectangle_method(f, X0, X1, h1)\n",
    "I_rect_h2 = rectangle_method(f, X0, X1, h2)\n",
    "\n",
    "I_trap_h1 = trapezoidal_method(f, X0, X1, h1)\n",
    "I_trap_h2 = trapezoidal_method(f, X0, X1, h2)\n",
    "\n",
    "I_simp_h1 = simpson_method(f, X0, X1, h1)\n",
    "I_simp_h2 = simpson_method(f, X0, X1, h2)\n",
    "\n",
    "I_rect_rr = runge_romberg(I_rect_h1, I_rect_h2, 2)\n",
    "I_trap_rr = runge_romberg(I_trap_h1, I_trap_h2, 2)\n",
    "I_simp_rr = runge_romberg(I_simp_h1, I_simp_h2, 2)\n",
    "\n",
    "error_rect = error_estimate_rectangles(h2, M2, X0, X1)\n",
    "error_trap = error_estimate_trapezoidal(h2, M2, X0, X1)\n",
    "error_simp = error_estimate_simpson(h2, M4, X0, X1)\n"
   ]
  },
  {
   "cell_type": "markdown",
   "metadata": {},
   "source": [
    "##### Результаты"
   ]
  },
  {
   "cell_type": "code",
   "execution_count": 12,
   "metadata": {},
   "outputs": [
    {
     "name": "stdout",
     "output_type": "stream",
     "text": [
      "Метод прямоугольников (h=0.1): I ≈ 0.2850000000000001, Погрешность ≈ 0.00020833333333333337\n",
      "Метод прямоугольников (h=0.05): I ≈ 0.3087500000000001\n",
      "Уточненный результат (Рунге-Ромберг): I ≈ 0.31666666666666676\n",
      "Метод трапеций (h=0.1): I ≈ 0.3350000000000001, Погрешность ≈ 0.00041666666666666675\n",
      "Метод трапеций (h=0.05): I ≈ 0.33375000000000005\n",
      "Уточненный результат (Рунге-Ромберг): I ≈ 0.33333333333333337\n",
      "Метод Симпсона (h=0.1): I ≈ 0.3333333333333333, Погрешность ≈ 0.0\n",
      "Метод Симпсона (h=0.05): I ≈ 0.3333333333333333\n",
      "Уточненный результат (Рунге-Ромберг): I ≈ 0.3333333333333333\n"
     ]
    }
   ],
   "source": [
    "\n",
    "print(f\"Метод прямоугольников (h={h1}): I ≈ {I_rect_h1}, Погрешность ≈ {error_rect}\")\n",
    "print(f\"Метод прямоугольников (h={h2}): I ≈ {I_rect_h2}\")\n",
    "print(f\"Уточненный результат (Рунге-Ромберг): I ≈ {I_rect_rr}\")\n",
    "\n",
    "print(f\"Метод трапеций (h={h1}): I ≈ {I_trap_h1}, Погрешность ≈ {error_trap}\")\n",
    "print(f\"Метод трапеций (h={h2}): I ≈ {I_trap_h2}\")\n",
    "print(f\"Уточненный результат (Рунге-Ромберг): I ≈ {I_trap_rr}\")\n",
    "\n",
    "print(f\"Метод Симпсона (h={h1}): I ≈ {I_simp_h1}, Погрешность ≈ {error_simp}\")\n",
    "print(f\"Метод Симпсона (h={h2}): I ≈ {I_simp_h2}\")\n",
    "print(f\"Уточненный результат (Рунге-Ромберг): I ≈ {I_simp_rr}\")\n"
   ]
  }
 ],
 "metadata": {
  "kernelspec": {
   "display_name": "venv",
   "language": "python",
   "name": "python3"
  },
  "language_info": {
   "codemirror_mode": {
    "name": "ipython",
    "version": 3
   },
   "file_extension": ".py",
   "mimetype": "text/x-python",
   "name": "python",
   "nbconvert_exporter": "python",
   "pygments_lexer": "ipython3",
   "version": "3.12.4"
  }
 },
 "nbformat": 4,
 "nbformat_minor": 2
}
