{
 "cells": [
  {
   "cell_type": "markdown",
   "metadata": {},
   "source": [
    "##### Здадание 1.4\n",
    "###### Используя метод вращений, найти собственные значения λ1, λ2, λ3 и собственные векторы h1, h2, h3 симметрических матриц с погрешностью э = 0.01 для [[8, 2, -1], [2, -5, -8], [-1, -8, -5]]"
   ]
  },
  {
   "cell_type": "code",
   "execution_count": 1,
   "metadata": {},
   "outputs": [
    {
     "name": "stdout",
     "output_type": "stream",
     "text": [
      "Собственные значения:\n",
      "[-13   8   2]\n",
      "Собственные векторы:\n",
      "[[ 0.022 -0.944  0.33 ]\n",
      " [ 0.75   0.234  0.619]\n",
      " [-0.661  0.234  0.713]]\n"
     ]
    }
   ],
   "source": [
    "import numpy as np\n",
    "\n",
    "def rotate(A, p, q, theta):\n",
    "    c = np.cos(theta)\n",
    "    s = np.sin(theta)\n",
    "\n",
    "    A_rotated = np.copy(A)\n",
    "    \n",
    "    for i in range(len(A)):\n",
    "        for j in range(len(A)):\n",
    "            if i == p and j == p:\n",
    "                A_rotated[p, p] = c * c * A[p, p] - 2 * c * s * A[p, q] + s * s * A[q, q]\n",
    "            elif i == q and j == q:\n",
    "                A_rotated[q, q] = s * s * A[p, p] + 2 * c * s * A[p, q] + c * c * A[q, q]\n",
    "            elif i == p and j == q:\n",
    "                A_rotated[p, q] = 0\n",
    "            elif i == q and j == p:\n",
    "                A_rotated[q, p] = 0\n",
    "            elif i != p and i != q and j != p and j != q:\n",
    "                A_rotated[i, j] = A[i, j]\n",
    "    \n",
    "    return A_rotated\n",
    "\n",
    "def jacobi_method(A, epsilon=0.01):\n",
    "    n = A.shape[0]\n",
    "    V = np.eye(n) \n",
    "    A_curr = np.copy(A)\n",
    "\n",
    "    while True:\n",
    "        max_val = 0\n",
    "        p, q = 0, 0\n",
    "        for i in range(n):\n",
    "            for j in range(i + 1, n):\n",
    "                if abs(A_curr[i, j]) > max_val:\n",
    "                    max_val = abs(A_curr[i, j])\n",
    "                    p, q = i, j\n",
    "\n",
    "        if max_val < epsilon:\n",
    "            break\n",
    "\n",
    "        if A_curr[q, q] == A_curr[p, p]:\n",
    "            theta = np.pi / 4\n",
    "        else:\n",
    "            theta = 0.5 * np.arctan2(2 * A_curr[p, q], A_curr[q, q] - A_curr[p, p])\n",
    "\n",
    "        A_curr = rotate(A_curr, p, q, theta)\n",
    "        \n",
    "        temp = np.eye(n)\n",
    "        temp[p, p] = np.cos(theta)\n",
    "        temp[p, q] = -np.sin(theta)\n",
    "        temp[q, p] = np.sin(theta)\n",
    "        temp[q, q] = np.cos(theta)\n",
    "        \n",
    "        V = V @ temp\n",
    "\n",
    "    return np.diagonal(A_curr), V\n",
    "\n",
    "    \n",
    "A = np.array([[8, 2, -1], [2, -5, -8], [-1, -8, -5]])\n",
    "\n",
    "\n",
    "eigenvalues, eigenvectors = jacobi_method(A)\n",
    "\n",
    "\n",
    "print(\"Собственные значения:\")\n",
    "print(np.round(eigenvalues, 3))\n",
    "print(\"Собственные векторы:\")\n",
    "print(np.round(eigenvectors, 3))"
   ]
  }
 ],
 "metadata": {
  "kernelspec": {
   "display_name": "Python [conda env:base] *",
   "language": "python",
   "name": "conda-base-py"
  },
  "language_info": {
   "codemirror_mode": {
    "name": "ipython",
    "version": 3
   },
   "file_extension": ".py",
   "mimetype": "text/x-python",
   "name": "python",
   "nbconvert_exporter": "python",
   "pygments_lexer": "ipython3",
   "version": "3.11.8"
  }
 },
 "nbformat": 4,
 "nbformat_minor": 4
}
