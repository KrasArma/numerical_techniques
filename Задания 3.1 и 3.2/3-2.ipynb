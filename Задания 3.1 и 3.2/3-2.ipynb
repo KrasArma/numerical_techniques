{
 "cells": [
  {
   "cell_type": "markdown",
   "metadata": {},
   "source": [
    "#### Задача 3.2\n",
    "###### Построить кубический сплайн для функции, заданной в узлах интерполяции, предполагая, что сплайн имеет нулевую кривизну при х = х0 и х = х4. Вычислить значение функции в точке х = Х*.\n",
    "\n",
    "###### *По списку мой вариант - 34, но в задачнике всего 30 вариантов. Взяла вариант №4."
   ]
  },
  {
   "cell_type": "code",
   "execution_count": 1,
   "metadata": {},
   "outputs": [
    {
     "name": "stdout",
     "output_type": "stream",
     "text": [
      "Значение функции в точке X* = 2.66666667: 0.5677413514650419\n"
     ]
    }
   ],
   "source": [
    "import numpy as np\n",
    "from scipy.interpolate import CubicSpline\n",
    "\n",
    "x = np.array([1.0, 1.9, 2.8, 3.7, 4.6])\n",
    "f = np.array([2.4142, 1.0818, 0.50953, 0.11836, -0.24008])\n",
    "X_star = 2.66666667\n",
    "\n",
    "cs = CubicSpline(x, f, bc_type='natural')\n",
    "\n",
    "result = cs(X_star)\n",
    "\n",
    "print(f\"Значение функции в точке X* = {X_star}: {result}\")\n"
   ]
  }
 ],
 "metadata": {
  "kernelspec": {
   "display_name": "venv",
   "language": "python",
   "name": "python3"
  },
  "language_info": {
   "codemirror_mode": {
    "name": "ipython",
    "version": 3
   },
   "file_extension": ".py",
   "mimetype": "text/x-python",
   "name": "python",
   "nbconvert_exporter": "python",
   "pygments_lexer": "ipython3",
   "version": "3.12.4"
  }
 },
 "nbformat": 4,
 "nbformat_minor": 2
}
